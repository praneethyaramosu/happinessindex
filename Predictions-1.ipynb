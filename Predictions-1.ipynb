{
  "nbformat": 4,
  "nbformat_minor": 0,
  "metadata": {
    "colab": {
      "name": "Predictions.ipynb",
      "provenance": [],
      "collapsed_sections": []
    },
    "kernelspec": {
      "name": "python3",
      "display_name": "Python 3"
    }
  },
  "cells": [
    {
      "cell_type": "markdown",
      "metadata": {
        "id": "bE4azAWE9gQ6",
        "colab_type": "text"
      },
      "source": [
        "# **Inference and Predictive modelling for the Happiness Score using Shallow and Deep Learning models**"
      ]
    },
    {
      "cell_type": "markdown",
      "metadata": {
        "id": "N9CCFKgW-PGc",
        "colab_type": "text"
      },
      "source": [
        "### Mounting the drive"
      ]
    },
    {
      "cell_type": "code",
      "metadata": {
        "id": "2npV8QLQybyy",
        "colab_type": "code",
        "outputId": "664595d6-9581-412e-fa80-d999e5ce5000",
        "colab": {
          "base_uri": "https://localhost:8080/",
          "height": 139
        }
      },
      "source": [
        "#Mounting the drive\n",
        "from google.colab import drive\n",
        "drive.mount('/gdrive')\n",
        "%cd /gdrive"
      ],
      "execution_count": 1,
      "outputs": [
        {
          "output_type": "stream",
          "text": [
            "Go to this URL in a browser: https://accounts.google.com/o/oauth2/auth?client_id=947318989803-6bn6qk8qdgf4n4g3pfee6491hc0brc4i.apps.googleusercontent.com&redirect_uri=urn%3aietf%3awg%3aoauth%3a2.0%3aoob&response_type=code&scope=email%20https%3a%2f%2fwww.googleapis.com%2fauth%2fdocs.test%20https%3a%2f%2fwww.googleapis.com%2fauth%2fdrive%20https%3a%2f%2fwww.googleapis.com%2fauth%2fdrive.photos.readonly%20https%3a%2f%2fwww.googleapis.com%2fauth%2fpeopleapi.readonly\n",
            "\n",
            "Enter your authorization code:\n",
            "··········\n",
            "Mounted at /gdrive\n",
            "/gdrive\n"
          ],
          "name": "stdout"
        }
      ]
    },
    {
      "cell_type": "markdown",
      "metadata": {
        "id": "Fjt61fhr-VUD",
        "colab_type": "text"
      },
      "source": [
        "## Loading the libraries"
      ]
    },
    {
      "cell_type": "code",
      "metadata": {
        "id": "VWSOHhEzh4IG",
        "colab_type": "code",
        "outputId": "5cdb248f-f1ef-4ce8-f620-da2eed8ae695",
        "colab": {
          "base_uri": "https://localhost:8080/",
          "height": 88
        }
      },
      "source": [
        "#Libraries\n",
        "import pandas as pd\n",
        "import numpy as np\n",
        "import tensorflow as tf\n",
        "import sklearn \n",
        "import keras\n",
        "import matplotlib.pyplot as plt\n",
        "import seaborn as sns"
      ],
      "execution_count": 2,
      "outputs": [
        {
          "output_type": "stream",
          "text": [
            "Using TensorFlow backend.\n",
            "/usr/local/lib/python3.6/dist-packages/statsmodels/tools/_testing.py:19: FutureWarning: pandas.util.testing is deprecated. Use the functions in the public API at pandas.testing instead.\n",
            "  import pandas.util.testing as tm\n"
          ],
          "name": "stderr"
        }
      ]
    },
    {
      "cell_type": "markdown",
      "metadata": {
        "id": "DdmyJB09_abM",
        "colab_type": "text"
      },
      "source": [
        "### Loading the data"
      ]
    },
    {
      "cell_type": "markdown",
      "metadata": {
        "id": "qvTnrL4v-1CT",
        "colab_type": "text"
      },
      "source": [
        "Loading **2015** Data\n"
      ]
    },
    {
      "cell_type": "code",
      "metadata": {
        "id": "7RVAi4cri8Rn",
        "colab_type": "code",
        "outputId": "edf699e1-155a-4c75-c9bb-81adfbb84de8",
        "colab": {
          "base_uri": "https://localhost:8080/",
          "height": 204
        }
      },
      "source": [
        "#Loading 2015 Data\n",
        "df1 = pd.read_csv(r\"/gdrive/Shared drives/Big Data Project/Data/2015.csv\")\n",
        "df1 = df1.iloc[:,[0,3,5,6,7,8,9,10]]\n",
        "rename_dictionary = [\"Country\",\"Score\",\"Economy\",\"Family\",\"Health\",\"Freedom\",\"Trust\",\"Generosity\"]\n",
        "df1.columns = rename_dictionary\n",
        "df1.head()"
      ],
      "execution_count": 3,
      "outputs": [
        {
          "output_type": "execute_result",
          "data": {
            "text/html": [
              "<div>\n",
              "<style scoped>\n",
              "    .dataframe tbody tr th:only-of-type {\n",
              "        vertical-align: middle;\n",
              "    }\n",
              "\n",
              "    .dataframe tbody tr th {\n",
              "        vertical-align: top;\n",
              "    }\n",
              "\n",
              "    .dataframe thead th {\n",
              "        text-align: right;\n",
              "    }\n",
              "</style>\n",
              "<table border=\"1\" class=\"dataframe\">\n",
              "  <thead>\n",
              "    <tr style=\"text-align: right;\">\n",
              "      <th></th>\n",
              "      <th>Country</th>\n",
              "      <th>Score</th>\n",
              "      <th>Economy</th>\n",
              "      <th>Family</th>\n",
              "      <th>Health</th>\n",
              "      <th>Freedom</th>\n",
              "      <th>Trust</th>\n",
              "      <th>Generosity</th>\n",
              "    </tr>\n",
              "  </thead>\n",
              "  <tbody>\n",
              "    <tr>\n",
              "      <th>0</th>\n",
              "      <td>Switzerland</td>\n",
              "      <td>7.587</td>\n",
              "      <td>1.39651</td>\n",
              "      <td>1.34951</td>\n",
              "      <td>0.94143</td>\n",
              "      <td>0.66557</td>\n",
              "      <td>0.41978</td>\n",
              "      <td>0.29678</td>\n",
              "    </tr>\n",
              "    <tr>\n",
              "      <th>1</th>\n",
              "      <td>Iceland</td>\n",
              "      <td>7.561</td>\n",
              "      <td>1.30232</td>\n",
              "      <td>1.40223</td>\n",
              "      <td>0.94784</td>\n",
              "      <td>0.62877</td>\n",
              "      <td>0.14145</td>\n",
              "      <td>0.43630</td>\n",
              "    </tr>\n",
              "    <tr>\n",
              "      <th>2</th>\n",
              "      <td>Denmark</td>\n",
              "      <td>7.527</td>\n",
              "      <td>1.32548</td>\n",
              "      <td>1.36058</td>\n",
              "      <td>0.87464</td>\n",
              "      <td>0.64938</td>\n",
              "      <td>0.48357</td>\n",
              "      <td>0.34139</td>\n",
              "    </tr>\n",
              "    <tr>\n",
              "      <th>3</th>\n",
              "      <td>Norway</td>\n",
              "      <td>7.522</td>\n",
              "      <td>1.45900</td>\n",
              "      <td>1.33095</td>\n",
              "      <td>0.88521</td>\n",
              "      <td>0.66973</td>\n",
              "      <td>0.36503</td>\n",
              "      <td>0.34699</td>\n",
              "    </tr>\n",
              "    <tr>\n",
              "      <th>4</th>\n",
              "      <td>Canada</td>\n",
              "      <td>7.427</td>\n",
              "      <td>1.32629</td>\n",
              "      <td>1.32261</td>\n",
              "      <td>0.90563</td>\n",
              "      <td>0.63297</td>\n",
              "      <td>0.32957</td>\n",
              "      <td>0.45811</td>\n",
              "    </tr>\n",
              "  </tbody>\n",
              "</table>\n",
              "</div>"
            ],
            "text/plain": [
              "       Country  Score  Economy   Family   Health  Freedom    Trust  Generosity\n",
              "0  Switzerland  7.587  1.39651  1.34951  0.94143  0.66557  0.41978     0.29678\n",
              "1      Iceland  7.561  1.30232  1.40223  0.94784  0.62877  0.14145     0.43630\n",
              "2      Denmark  7.527  1.32548  1.36058  0.87464  0.64938  0.48357     0.34139\n",
              "3       Norway  7.522  1.45900  1.33095  0.88521  0.66973  0.36503     0.34699\n",
              "4       Canada  7.427  1.32629  1.32261  0.90563  0.63297  0.32957     0.45811"
            ]
          },
          "metadata": {
            "tags": []
          },
          "execution_count": 3
        }
      ]
    },
    {
      "cell_type": "markdown",
      "metadata": {
        "id": "nV2Pvcx--639",
        "colab_type": "text"
      },
      "source": [
        "Loading **2016** data"
      ]
    },
    {
      "cell_type": "code",
      "metadata": {
        "id": "b-Ebg0rijRyp",
        "colab_type": "code",
        "outputId": "914135ab-497a-47af-ece3-4d58e1195b0a",
        "colab": {
          "base_uri": "https://localhost:8080/",
          "height": 204
        }
      },
      "source": [
        "#Loading 2016 Data\n",
        "df2 = pd.read_csv(r\"/gdrive/Shared drives/Big Data Project/Data/2016.csv\")\n",
        "df2 = df2.iloc[:,[0,3,6,7,8,9,10,11]]\n",
        "df2.columns = rename_dictionary\n",
        "df2.head()"
      ],
      "execution_count": 4,
      "outputs": [
        {
          "output_type": "execute_result",
          "data": {
            "text/html": [
              "<div>\n",
              "<style scoped>\n",
              "    .dataframe tbody tr th:only-of-type {\n",
              "        vertical-align: middle;\n",
              "    }\n",
              "\n",
              "    .dataframe tbody tr th {\n",
              "        vertical-align: top;\n",
              "    }\n",
              "\n",
              "    .dataframe thead th {\n",
              "        text-align: right;\n",
              "    }\n",
              "</style>\n",
              "<table border=\"1\" class=\"dataframe\">\n",
              "  <thead>\n",
              "    <tr style=\"text-align: right;\">\n",
              "      <th></th>\n",
              "      <th>Country</th>\n",
              "      <th>Score</th>\n",
              "      <th>Economy</th>\n",
              "      <th>Family</th>\n",
              "      <th>Health</th>\n",
              "      <th>Freedom</th>\n",
              "      <th>Trust</th>\n",
              "      <th>Generosity</th>\n",
              "    </tr>\n",
              "  </thead>\n",
              "  <tbody>\n",
              "    <tr>\n",
              "      <th>0</th>\n",
              "      <td>Denmark</td>\n",
              "      <td>7.526</td>\n",
              "      <td>1.44178</td>\n",
              "      <td>1.16374</td>\n",
              "      <td>0.79504</td>\n",
              "      <td>0.57941</td>\n",
              "      <td>0.44453</td>\n",
              "      <td>0.36171</td>\n",
              "    </tr>\n",
              "    <tr>\n",
              "      <th>1</th>\n",
              "      <td>Switzerland</td>\n",
              "      <td>7.509</td>\n",
              "      <td>1.52733</td>\n",
              "      <td>1.14524</td>\n",
              "      <td>0.86303</td>\n",
              "      <td>0.58557</td>\n",
              "      <td>0.41203</td>\n",
              "      <td>0.28083</td>\n",
              "    </tr>\n",
              "    <tr>\n",
              "      <th>2</th>\n",
              "      <td>Iceland</td>\n",
              "      <td>7.501</td>\n",
              "      <td>1.42666</td>\n",
              "      <td>1.18326</td>\n",
              "      <td>0.86733</td>\n",
              "      <td>0.56624</td>\n",
              "      <td>0.14975</td>\n",
              "      <td>0.47678</td>\n",
              "    </tr>\n",
              "    <tr>\n",
              "      <th>3</th>\n",
              "      <td>Norway</td>\n",
              "      <td>7.498</td>\n",
              "      <td>1.57744</td>\n",
              "      <td>1.12690</td>\n",
              "      <td>0.79579</td>\n",
              "      <td>0.59609</td>\n",
              "      <td>0.35776</td>\n",
              "      <td>0.37895</td>\n",
              "    </tr>\n",
              "    <tr>\n",
              "      <th>4</th>\n",
              "      <td>Finland</td>\n",
              "      <td>7.413</td>\n",
              "      <td>1.40598</td>\n",
              "      <td>1.13464</td>\n",
              "      <td>0.81091</td>\n",
              "      <td>0.57104</td>\n",
              "      <td>0.41004</td>\n",
              "      <td>0.25492</td>\n",
              "    </tr>\n",
              "  </tbody>\n",
              "</table>\n",
              "</div>"
            ],
            "text/plain": [
              "       Country  Score  Economy   Family   Health  Freedom    Trust  Generosity\n",
              "0      Denmark  7.526  1.44178  1.16374  0.79504  0.57941  0.44453     0.36171\n",
              "1  Switzerland  7.509  1.52733  1.14524  0.86303  0.58557  0.41203     0.28083\n",
              "2      Iceland  7.501  1.42666  1.18326  0.86733  0.56624  0.14975     0.47678\n",
              "3       Norway  7.498  1.57744  1.12690  0.79579  0.59609  0.35776     0.37895\n",
              "4      Finland  7.413  1.40598  1.13464  0.81091  0.57104  0.41004     0.25492"
            ]
          },
          "metadata": {
            "tags": []
          },
          "execution_count": 4
        }
      ]
    },
    {
      "cell_type": "markdown",
      "metadata": {
        "id": "eM9n7BFG-_u0",
        "colab_type": "text"
      },
      "source": [
        "Loading the **2017** data"
      ]
    },
    {
      "cell_type": "code",
      "metadata": {
        "id": "VZw9opbBjaXx",
        "colab_type": "code",
        "outputId": "3fadfd33-03e9-455e-976c-ec524fcd0a4f",
        "colab": {
          "base_uri": "https://localhost:8080/",
          "height": 204
        }
      },
      "source": [
        "#Loading the 2017 data\n",
        "df3 = pd.read_csv(r\"/gdrive/Shared drives/Big Data Project/Data/2017.csv\")\n",
        "df3 = df3.iloc[:,[0,2,5,6,7,8,10,9]]\n",
        "df3.columns = rename_dictionary\n",
        "df3.head()"
      ],
      "execution_count": 5,
      "outputs": [
        {
          "output_type": "execute_result",
          "data": {
            "text/html": [
              "<div>\n",
              "<style scoped>\n",
              "    .dataframe tbody tr th:only-of-type {\n",
              "        vertical-align: middle;\n",
              "    }\n",
              "\n",
              "    .dataframe tbody tr th {\n",
              "        vertical-align: top;\n",
              "    }\n",
              "\n",
              "    .dataframe thead th {\n",
              "        text-align: right;\n",
              "    }\n",
              "</style>\n",
              "<table border=\"1\" class=\"dataframe\">\n",
              "  <thead>\n",
              "    <tr style=\"text-align: right;\">\n",
              "      <th></th>\n",
              "      <th>Country</th>\n",
              "      <th>Score</th>\n",
              "      <th>Economy</th>\n",
              "      <th>Family</th>\n",
              "      <th>Health</th>\n",
              "      <th>Freedom</th>\n",
              "      <th>Trust</th>\n",
              "      <th>Generosity</th>\n",
              "    </tr>\n",
              "  </thead>\n",
              "  <tbody>\n",
              "    <tr>\n",
              "      <th>0</th>\n",
              "      <td>Norway</td>\n",
              "      <td>7.537</td>\n",
              "      <td>1.616463</td>\n",
              "      <td>1.533524</td>\n",
              "      <td>0.796667</td>\n",
              "      <td>0.635423</td>\n",
              "      <td>0.315964</td>\n",
              "      <td>0.362012</td>\n",
              "    </tr>\n",
              "    <tr>\n",
              "      <th>1</th>\n",
              "      <td>Denmark</td>\n",
              "      <td>7.522</td>\n",
              "      <td>1.482383</td>\n",
              "      <td>1.551122</td>\n",
              "      <td>0.792566</td>\n",
              "      <td>0.626007</td>\n",
              "      <td>0.400770</td>\n",
              "      <td>0.355280</td>\n",
              "    </tr>\n",
              "    <tr>\n",
              "      <th>2</th>\n",
              "      <td>Iceland</td>\n",
              "      <td>7.504</td>\n",
              "      <td>1.480633</td>\n",
              "      <td>1.610574</td>\n",
              "      <td>0.833552</td>\n",
              "      <td>0.627163</td>\n",
              "      <td>0.153527</td>\n",
              "      <td>0.475540</td>\n",
              "    </tr>\n",
              "    <tr>\n",
              "      <th>3</th>\n",
              "      <td>Switzerland</td>\n",
              "      <td>7.494</td>\n",
              "      <td>1.564980</td>\n",
              "      <td>1.516912</td>\n",
              "      <td>0.858131</td>\n",
              "      <td>0.620071</td>\n",
              "      <td>0.367007</td>\n",
              "      <td>0.290549</td>\n",
              "    </tr>\n",
              "    <tr>\n",
              "      <th>4</th>\n",
              "      <td>Finland</td>\n",
              "      <td>7.469</td>\n",
              "      <td>1.443572</td>\n",
              "      <td>1.540247</td>\n",
              "      <td>0.809158</td>\n",
              "      <td>0.617951</td>\n",
              "      <td>0.382612</td>\n",
              "      <td>0.245483</td>\n",
              "    </tr>\n",
              "  </tbody>\n",
              "</table>\n",
              "</div>"
            ],
            "text/plain": [
              "       Country  Score   Economy  ...   Freedom     Trust  Generosity\n",
              "0       Norway  7.537  1.616463  ...  0.635423  0.315964    0.362012\n",
              "1      Denmark  7.522  1.482383  ...  0.626007  0.400770    0.355280\n",
              "2      Iceland  7.504  1.480633  ...  0.627163  0.153527    0.475540\n",
              "3  Switzerland  7.494  1.564980  ...  0.620071  0.367007    0.290549\n",
              "4      Finland  7.469  1.443572  ...  0.617951  0.382612    0.245483\n",
              "\n",
              "[5 rows x 8 columns]"
            ]
          },
          "metadata": {
            "tags": []
          },
          "execution_count": 5
        }
      ]
    },
    {
      "cell_type": "markdown",
      "metadata": {
        "id": "9_JK-RHT_F97",
        "colab_type": "text"
      },
      "source": [
        "Loading the **2018** data"
      ]
    },
    {
      "cell_type": "code",
      "metadata": {
        "id": "-QgJxYSNjgmc",
        "colab_type": "code",
        "outputId": "1e8fb2a1-70f0-4990-d4a4-d3914bbc24c4",
        "colab": {
          "base_uri": "https://localhost:8080/",
          "height": 204
        }
      },
      "source": [
        "#Loading the 2018 data\n",
        "df4 = pd.read_csv(r\"/gdrive/Shared drives/Big Data Project/Data/2018.csv\")\n",
        "df4 = df4.iloc[:,[1,2,3,4,5,6,8,7]]\n",
        "df4.columns = rename_dictionary\n",
        "df4.head()"
      ],
      "execution_count": 6,
      "outputs": [
        {
          "output_type": "execute_result",
          "data": {
            "text/html": [
              "<div>\n",
              "<style scoped>\n",
              "    .dataframe tbody tr th:only-of-type {\n",
              "        vertical-align: middle;\n",
              "    }\n",
              "\n",
              "    .dataframe tbody tr th {\n",
              "        vertical-align: top;\n",
              "    }\n",
              "\n",
              "    .dataframe thead th {\n",
              "        text-align: right;\n",
              "    }\n",
              "</style>\n",
              "<table border=\"1\" class=\"dataframe\">\n",
              "  <thead>\n",
              "    <tr style=\"text-align: right;\">\n",
              "      <th></th>\n",
              "      <th>Country</th>\n",
              "      <th>Score</th>\n",
              "      <th>Economy</th>\n",
              "      <th>Family</th>\n",
              "      <th>Health</th>\n",
              "      <th>Freedom</th>\n",
              "      <th>Trust</th>\n",
              "      <th>Generosity</th>\n",
              "    </tr>\n",
              "  </thead>\n",
              "  <tbody>\n",
              "    <tr>\n",
              "      <th>0</th>\n",
              "      <td>Finland</td>\n",
              "      <td>7.632</td>\n",
              "      <td>1.305</td>\n",
              "      <td>1.592</td>\n",
              "      <td>0.874</td>\n",
              "      <td>0.681</td>\n",
              "      <td>0.393</td>\n",
              "      <td>0.202</td>\n",
              "    </tr>\n",
              "    <tr>\n",
              "      <th>1</th>\n",
              "      <td>Norway</td>\n",
              "      <td>7.594</td>\n",
              "      <td>1.456</td>\n",
              "      <td>1.582</td>\n",
              "      <td>0.861</td>\n",
              "      <td>0.686</td>\n",
              "      <td>0.340</td>\n",
              "      <td>0.286</td>\n",
              "    </tr>\n",
              "    <tr>\n",
              "      <th>2</th>\n",
              "      <td>Denmark</td>\n",
              "      <td>7.555</td>\n",
              "      <td>1.351</td>\n",
              "      <td>1.590</td>\n",
              "      <td>0.868</td>\n",
              "      <td>0.683</td>\n",
              "      <td>0.408</td>\n",
              "      <td>0.284</td>\n",
              "    </tr>\n",
              "    <tr>\n",
              "      <th>3</th>\n",
              "      <td>Iceland</td>\n",
              "      <td>7.495</td>\n",
              "      <td>1.343</td>\n",
              "      <td>1.644</td>\n",
              "      <td>0.914</td>\n",
              "      <td>0.677</td>\n",
              "      <td>0.138</td>\n",
              "      <td>0.353</td>\n",
              "    </tr>\n",
              "    <tr>\n",
              "      <th>4</th>\n",
              "      <td>Switzerland</td>\n",
              "      <td>7.487</td>\n",
              "      <td>1.420</td>\n",
              "      <td>1.549</td>\n",
              "      <td>0.927</td>\n",
              "      <td>0.660</td>\n",
              "      <td>0.357</td>\n",
              "      <td>0.256</td>\n",
              "    </tr>\n",
              "  </tbody>\n",
              "</table>\n",
              "</div>"
            ],
            "text/plain": [
              "       Country  Score  Economy  Family  Health  Freedom  Trust  Generosity\n",
              "0      Finland  7.632    1.305   1.592   0.874    0.681  0.393       0.202\n",
              "1       Norway  7.594    1.456   1.582   0.861    0.686  0.340       0.286\n",
              "2      Denmark  7.555    1.351   1.590   0.868    0.683  0.408       0.284\n",
              "3      Iceland  7.495    1.343   1.644   0.914    0.677  0.138       0.353\n",
              "4  Switzerland  7.487    1.420   1.549   0.927    0.660  0.357       0.256"
            ]
          },
          "metadata": {
            "tags": []
          },
          "execution_count": 6
        }
      ]
    },
    {
      "cell_type": "markdown",
      "metadata": {
        "id": "BDW9F_xG_PpE",
        "colab_type": "text"
      },
      "source": [
        "Loading the 2019 data"
      ]
    },
    {
      "cell_type": "code",
      "metadata": {
        "id": "kepXt4UrjrdV",
        "colab_type": "code",
        "outputId": "d68d2b0d-a3e8-4bec-bca3-251e102869ff",
        "colab": {
          "base_uri": "https://localhost:8080/",
          "height": 204
        }
      },
      "source": [
        "#loading the 2019 data\n",
        "df5 = pd.read_csv(r\"/gdrive/Shared drives/Big Data Project/Data/2019.csv\")\n",
        "df5 = df5.iloc[:,[1,2,3,4,5,6,8,7]]\n",
        "df5.columns = rename_dictionary\n",
        "df5.head()"
      ],
      "execution_count": 7,
      "outputs": [
        {
          "output_type": "execute_result",
          "data": {
            "text/html": [
              "<div>\n",
              "<style scoped>\n",
              "    .dataframe tbody tr th:only-of-type {\n",
              "        vertical-align: middle;\n",
              "    }\n",
              "\n",
              "    .dataframe tbody tr th {\n",
              "        vertical-align: top;\n",
              "    }\n",
              "\n",
              "    .dataframe thead th {\n",
              "        text-align: right;\n",
              "    }\n",
              "</style>\n",
              "<table border=\"1\" class=\"dataframe\">\n",
              "  <thead>\n",
              "    <tr style=\"text-align: right;\">\n",
              "      <th></th>\n",
              "      <th>Country</th>\n",
              "      <th>Score</th>\n",
              "      <th>Economy</th>\n",
              "      <th>Family</th>\n",
              "      <th>Health</th>\n",
              "      <th>Freedom</th>\n",
              "      <th>Trust</th>\n",
              "      <th>Generosity</th>\n",
              "    </tr>\n",
              "  </thead>\n",
              "  <tbody>\n",
              "    <tr>\n",
              "      <th>0</th>\n",
              "      <td>Finland</td>\n",
              "      <td>7.769</td>\n",
              "      <td>1.340</td>\n",
              "      <td>1.587</td>\n",
              "      <td>0.986</td>\n",
              "      <td>0.596</td>\n",
              "      <td>0.393</td>\n",
              "      <td>0.153</td>\n",
              "    </tr>\n",
              "    <tr>\n",
              "      <th>1</th>\n",
              "      <td>Denmark</td>\n",
              "      <td>7.600</td>\n",
              "      <td>1.383</td>\n",
              "      <td>1.573</td>\n",
              "      <td>0.996</td>\n",
              "      <td>0.592</td>\n",
              "      <td>0.410</td>\n",
              "      <td>0.252</td>\n",
              "    </tr>\n",
              "    <tr>\n",
              "      <th>2</th>\n",
              "      <td>Norway</td>\n",
              "      <td>7.554</td>\n",
              "      <td>1.488</td>\n",
              "      <td>1.582</td>\n",
              "      <td>1.028</td>\n",
              "      <td>0.603</td>\n",
              "      <td>0.341</td>\n",
              "      <td>0.271</td>\n",
              "    </tr>\n",
              "    <tr>\n",
              "      <th>3</th>\n",
              "      <td>Iceland</td>\n",
              "      <td>7.494</td>\n",
              "      <td>1.380</td>\n",
              "      <td>1.624</td>\n",
              "      <td>1.026</td>\n",
              "      <td>0.591</td>\n",
              "      <td>0.118</td>\n",
              "      <td>0.354</td>\n",
              "    </tr>\n",
              "    <tr>\n",
              "      <th>4</th>\n",
              "      <td>Netherlands</td>\n",
              "      <td>7.488</td>\n",
              "      <td>1.396</td>\n",
              "      <td>1.522</td>\n",
              "      <td>0.999</td>\n",
              "      <td>0.557</td>\n",
              "      <td>0.298</td>\n",
              "      <td>0.322</td>\n",
              "    </tr>\n",
              "  </tbody>\n",
              "</table>\n",
              "</div>"
            ],
            "text/plain": [
              "       Country  Score  Economy  Family  Health  Freedom  Trust  Generosity\n",
              "0      Finland  7.769    1.340   1.587   0.986    0.596  0.393       0.153\n",
              "1      Denmark  7.600    1.383   1.573   0.996    0.592  0.410       0.252\n",
              "2       Norway  7.554    1.488   1.582   1.028    0.603  0.341       0.271\n",
              "3      Iceland  7.494    1.380   1.624   1.026    0.591  0.118       0.354\n",
              "4  Netherlands  7.488    1.396   1.522   0.999    0.557  0.298       0.322"
            ]
          },
          "metadata": {
            "tags": []
          },
          "execution_count": 7
        }
      ]
    },
    {
      "cell_type": "markdown",
      "metadata": {
        "id": "6c80e9-O_TeX",
        "colab_type": "text"
      },
      "source": [
        "Combining all the rows"
      ]
    },
    {
      "cell_type": "code",
      "metadata": {
        "id": "jx5vpN40jwTV",
        "colab_type": "code",
        "outputId": "abe312b5-7ac9-49bd-a288-f899d2d2f299",
        "colab": {
          "base_uri": "https://localhost:8080/",
          "height": 204
        }
      },
      "source": [
        "#Combining the years into one\n",
        "df = pd.concat([df1,df2,df3,df4,df5])\n",
        "df.head()"
      ],
      "execution_count": 8,
      "outputs": [
        {
          "output_type": "execute_result",
          "data": {
            "text/html": [
              "<div>\n",
              "<style scoped>\n",
              "    .dataframe tbody tr th:only-of-type {\n",
              "        vertical-align: middle;\n",
              "    }\n",
              "\n",
              "    .dataframe tbody tr th {\n",
              "        vertical-align: top;\n",
              "    }\n",
              "\n",
              "    .dataframe thead th {\n",
              "        text-align: right;\n",
              "    }\n",
              "</style>\n",
              "<table border=\"1\" class=\"dataframe\">\n",
              "  <thead>\n",
              "    <tr style=\"text-align: right;\">\n",
              "      <th></th>\n",
              "      <th>Country</th>\n",
              "      <th>Score</th>\n",
              "      <th>Economy</th>\n",
              "      <th>Family</th>\n",
              "      <th>Health</th>\n",
              "      <th>Freedom</th>\n",
              "      <th>Trust</th>\n",
              "      <th>Generosity</th>\n",
              "    </tr>\n",
              "  </thead>\n",
              "  <tbody>\n",
              "    <tr>\n",
              "      <th>0</th>\n",
              "      <td>Switzerland</td>\n",
              "      <td>7.587</td>\n",
              "      <td>1.39651</td>\n",
              "      <td>1.34951</td>\n",
              "      <td>0.94143</td>\n",
              "      <td>0.66557</td>\n",
              "      <td>0.41978</td>\n",
              "      <td>0.29678</td>\n",
              "    </tr>\n",
              "    <tr>\n",
              "      <th>1</th>\n",
              "      <td>Iceland</td>\n",
              "      <td>7.561</td>\n",
              "      <td>1.30232</td>\n",
              "      <td>1.40223</td>\n",
              "      <td>0.94784</td>\n",
              "      <td>0.62877</td>\n",
              "      <td>0.14145</td>\n",
              "      <td>0.43630</td>\n",
              "    </tr>\n",
              "    <tr>\n",
              "      <th>2</th>\n",
              "      <td>Denmark</td>\n",
              "      <td>7.527</td>\n",
              "      <td>1.32548</td>\n",
              "      <td>1.36058</td>\n",
              "      <td>0.87464</td>\n",
              "      <td>0.64938</td>\n",
              "      <td>0.48357</td>\n",
              "      <td>0.34139</td>\n",
              "    </tr>\n",
              "    <tr>\n",
              "      <th>3</th>\n",
              "      <td>Norway</td>\n",
              "      <td>7.522</td>\n",
              "      <td>1.45900</td>\n",
              "      <td>1.33095</td>\n",
              "      <td>0.88521</td>\n",
              "      <td>0.66973</td>\n",
              "      <td>0.36503</td>\n",
              "      <td>0.34699</td>\n",
              "    </tr>\n",
              "    <tr>\n",
              "      <th>4</th>\n",
              "      <td>Canada</td>\n",
              "      <td>7.427</td>\n",
              "      <td>1.32629</td>\n",
              "      <td>1.32261</td>\n",
              "      <td>0.90563</td>\n",
              "      <td>0.63297</td>\n",
              "      <td>0.32957</td>\n",
              "      <td>0.45811</td>\n",
              "    </tr>\n",
              "  </tbody>\n",
              "</table>\n",
              "</div>"
            ],
            "text/plain": [
              "       Country  Score  Economy   Family   Health  Freedom    Trust  Generosity\n",
              "0  Switzerland  7.587  1.39651  1.34951  0.94143  0.66557  0.41978     0.29678\n",
              "1      Iceland  7.561  1.30232  1.40223  0.94784  0.62877  0.14145     0.43630\n",
              "2      Denmark  7.527  1.32548  1.36058  0.87464  0.64938  0.48357     0.34139\n",
              "3       Norway  7.522  1.45900  1.33095  0.88521  0.66973  0.36503     0.34699\n",
              "4       Canada  7.427  1.32629  1.32261  0.90563  0.63297  0.32957     0.45811"
            ]
          },
          "metadata": {
            "tags": []
          },
          "execution_count": 8
        }
      ]
    },
    {
      "cell_type": "code",
      "metadata": {
        "id": "A9SlIxnNj1iE",
        "colab_type": "code",
        "outputId": "572a6767-5cde-4a38-f91d-2ae9e3b44715",
        "colab": {
          "base_uri": "https://localhost:8080/",
          "height": 170
        }
      },
      "source": [
        "df.isna().sum()\n",
        "\n",
        "#replacing the null in Trust column with the average Trust\n",
        "df[\"Trust\"].fillna(0.411,inplace = True)\n",
        "df.isnull().any()"
      ],
      "execution_count": 9,
      "outputs": [
        {
          "output_type": "execute_result",
          "data": {
            "text/plain": [
              "Country       False\n",
              "Score         False\n",
              "Economy       False\n",
              "Family        False\n",
              "Health        False\n",
              "Freedom       False\n",
              "Trust         False\n",
              "Generosity    False\n",
              "dtype: bool"
            ]
          },
          "metadata": {
            "tags": []
          },
          "execution_count": 9
        }
      ]
    },
    {
      "cell_type": "markdown",
      "metadata": {
        "id": "egRw6YUY0Fto",
        "colab_type": "text"
      },
      "source": [
        "# **Inference Modelling**"
      ]
    },
    {
      "cell_type": "markdown",
      "metadata": {
        "id": "ChFmf3ko0MjJ",
        "colab_type": "text"
      },
      "source": [
        "### Linear Regression"
      ]
    },
    {
      "cell_type": "markdown",
      "metadata": {
        "id": "A5Y0aZIAz7n8",
        "colab_type": "text"
      },
      "source": [
        "Let us first try to interpret the coefficients and how they effect the Happiness Index."
      ]
    },
    {
      "cell_type": "code",
      "metadata": {
        "id": "EGsN-xL6z39G",
        "colab_type": "code",
        "outputId": "6e4a621d-9d3b-431e-cf5a-0d89665ff5af",
        "colab": {
          "base_uri": "https://localhost:8080/",
          "height": 51
        }
      },
      "source": [
        "from sklearn.linear_model import LinearRegression\n",
        "X = df.iloc[:,2:].values\n",
        "y=df.iloc[:,1].values\n",
        "linearmodel = LinearRegression()\n",
        "linearmodel.fit(X,y)\n",
        "#To retrieve the intercept:\n",
        "print(linearmodel.intercept_)\n",
        "#For retrieving the slope:\n",
        "print(linearmodel.coef_)\n",
        "coefficients = list(linearmodel.coef_)"
      ],
      "execution_count": 17,
      "outputs": [
        {
          "output_type": "stream",
          "text": [
            "2.176156508661899\n",
            "[1.13958779 0.64450235 1.00934031 1.47859991 0.86345112 0.59165257]\n"
          ],
          "name": "stdout"
        }
      ]
    },
    {
      "cell_type": "code",
      "metadata": {
        "id": "oHwJaVeD0nvY",
        "colab_type": "code",
        "colab": {
          "base_uri": "https://localhost:8080/",
          "height": 136
        },
        "outputId": "8302be7a-2398-469a-a9b3-17065c749615"
      },
      "source": [
        "print(\"Holding everything else constant,\")\n",
        "for i in range(len(coefficients)):\n",
        "    print(\"For a unit change in \" + str(rename_dictionary[i+2]) + \" the happiness score increases by: \" + str(coefficients[i]))"
      ],
      "execution_count": 18,
      "outputs": [
        {
          "output_type": "stream",
          "text": [
            "Holding everything else constant,\n",
            "For a unit change in Economy the happiness score increases by: 1.1395877901894254\n",
            "For a unit change in Family the happiness score increases by: 0.6445023525318105\n",
            "For a unit change in Health the happiness score increases by: 1.0093403136903152\n",
            "For a unit change in Freedom the happiness score increases by: 1.478599909931456\n",
            "For a unit change in Trust the happiness score increases by: 0.8634511188181082\n",
            "For a unit change in Generosity the happiness score increases by: 0.5916525703015001\n"
          ],
          "name": "stdout"
        }
      ]
    },
    {
      "cell_type": "markdown",
      "metadata": {
        "id": "05IBHdU10s32",
        "colab_type": "text"
      },
      "source": [
        "From the above results, we can see that the \"Freedom\" factor is the most important factor to effect the Happiness Score.\n"
      ]
    },
    {
      "cell_type": "markdown",
      "metadata": {
        "id": "eCeuu1O60xYZ",
        "colab_type": "text"
      },
      "source": [
        "# **Predictive Modelling**\n"
      ]
    },
    {
      "cell_type": "markdown",
      "metadata": {
        "id": "4lbFif5j1TNq",
        "colab_type": "text"
      },
      "source": [
        "Now, let's try to use some different algorithms to predict the score based on different factors."
      ]
    },
    {
      "cell_type": "code",
      "metadata": {
        "id": "Kml47OUukAFA",
        "colab_type": "code",
        "colab": {}
      },
      "source": [
        "#Train Test Split\n",
        "from sklearn.model_selection import train_test_split \n",
        "from sklearn import metrics\n",
        "X = df.iloc[:,2:].values\n",
        "y=df.iloc[:,1].values\n",
        "X_train, X_test, y_train, y_test = train_test_split(X, y, random_state=123)"
      ],
      "execution_count": 0,
      "outputs": []
    },
    {
      "cell_type": "markdown",
      "metadata": {
        "id": "DePpSq331LQt",
        "colab_type": "text"
      },
      "source": [
        "### Regression Trees"
      ]
    },
    {
      "cell_type": "markdown",
      "metadata": {
        "id": "3vioobrQ1fZz",
        "colab_type": "text"
      },
      "source": [
        "One of the most simplest and easy to interpret model is Regression Trees. Let's try different number of maximum leaf nodes for each tree and look at the best possible accuracy."
      ]
    },
    {
      "cell_type": "code",
      "metadata": {
        "id": "4FKnX1Ca2FvI",
        "colab_type": "code",
        "colab": {
          "base_uri": "https://localhost:8080/",
          "height": 51
        },
        "outputId": "cde013a9-e7a8-40c9-8764-22d049436cbe"
      },
      "source": [
        "#Regression Trees\n",
        "from sklearn.tree import DecisionTreeRegressor\n",
        "from sklearn.metrics import mean_squared_error\n",
        "leaf_nodes = [5,6,7,8,9,10,12,14,16,18,20,22,24,26,28,30]\n",
        "regressor = DecisionTreeRegressor()\n",
        "MSE_decisiontrees = []\n",
        "for n in leaf_nodes:\n",
        "    regressor.set_params(max_leaf_nodes = n)\n",
        "    regressor.fit(X_train, y_train)\n",
        "    MSE_decisiontrees.append(mean_squared_error(y_test,regressor.predict(X_test)))\n",
        "\n",
        "print(min(MSE_decisiontrees))\n",
        "print(\"leaf_nodes: \" + str(leaf_nodes[MSE_decisiontrees.index(min(MSE_decisiontrees))]))"
      ],
      "execution_count": 23,
      "outputs": [
        {
          "output_type": "stream",
          "text": [
            "0.37037858523069267\n",
            "leaf_nodes: 28\n"
          ],
          "name": "stdout"
        }
      ]
    },
    {
      "cell_type": "code",
      "metadata": {
        "id": "ye3YcXRt2-09",
        "colab_type": "code",
        "colab": {
          "base_uri": "https://localhost:8080/",
          "height": 312
        },
        "outputId": "ec3a3414-412a-48c5-8a2c-c3c8c7b52ae4"
      },
      "source": [
        "#Scatter plot of actual vs predicted values\n",
        "plt.scatter(x = y_test, y = regressor.predict(X_test))\n",
        "plt.xlabel('Actual')\n",
        "plt.ylabel('Predicted')\n",
        "plt.title('Regression Trees')"
      ],
      "execution_count": 24,
      "outputs": [
        {
          "output_type": "execute_result",
          "data": {
            "text/plain": [
              "Text(0.5, 1.0, 'Regression Trees')"
            ]
          },
          "metadata": {
            "tags": []
          },
          "execution_count": 24
        },
        {
          "output_type": "display_data",
          "data": {
            "image/png": "[encoded data removed]",
            "text/plain": [
              "<Figure size 432x288 with 1 Axes>"
            ]
          },
          "metadata": {
            "tags": [],
            "needs_background": "light"
          }
        }
      ]
    },
    {
      "cell_type": "markdown",
      "metadata": {
        "id": "F6eef2QS2MgI",
        "colab_type": "text"
      },
      "source": [
        "The most common metric for accuracy of continous variables is the \"Root Mean Squared Error\". The best possible RMSE in the different regression trees that we found out was 0.3703 at 28 maximum leaf nodes."
      ]
    },
    {
      "cell_type": "code",
      "metadata": {
        "id": "cmGwpIbY2O8L",
        "colab_type": "code",
        "colab": {}
      },
      "source": [
        "from sklearn.tree import export_graphviz\n",
        "import pydotplus\n",
        "#plotting the best tree\n",
        "clf = DecisionTreeRegressor(max_leaf_nodes = 28)\n",
        "clf = clf.fit(X_train, y_train)\n",
        "dot_data = tree.export_graphviz(clf, feature_names = [\"Economy\",\"Family\",\"Health\",\"Freedom\",\"Trust\",\"Generosity\"],out_file='tree.dot') "
      ],
      "execution_count": 0,
      "outputs": []
    },
    {
      "cell_type": "markdown",
      "metadata": {
        "id": "fzqYcTOC2VBT",
        "colab_type": "text"
      },
      "source": [
        "![alt text](https://drive.google.com/uc?id=1m8y1fFIv_AEX9SOdjDpT3N7H9h3FC9Ps)"
      ]
    },
    {
      "cell_type": "markdown",
      "metadata": {
        "id": "iQnzUry73iwi",
        "colab_type": "text"
      },
      "source": [
        "### Lasso and Ridge Regression\n"
      ]
    },
    {
      "cell_type": "markdown",
      "metadata": {
        "id": "GH3TvxRM3n8I",
        "colab_type": "text"
      },
      "source": [
        "When we use Linear Regression for prediction, it is often very overfit to the data i.e. for a very small change in the training data, we see a considerably big change in the regression output. To encounter this problem some kind of penalty must be induced. This is where Lasso and Ridge regression come into play. These models make sure that the model is not overfit and thus help in making a better predictive model."
      ]
    },
    {
      "cell_type": "markdown",
      "metadata": {
        "id": "uNSjEx-03vgO",
        "colab_type": "text"
      },
      "source": [
        "Let's try a range of values for the alpha for both Lasso and Ridge regression and find the best possible RMSE."
      ]
    },
    {
      "cell_type": "code",
      "metadata": {
        "id": "CqGFh9mH3tRJ",
        "colab_type": "code",
        "colab": {
          "base_uri": "https://localhost:8080/",
          "height": 51
        },
        "outputId": "85256b7e-5a04-4823-d58a-b78f6fc974b4"
      },
      "source": [
        "#Lasso\n",
        "from sklearn.linear_model import Lasso\n",
        "\n",
        "lasso = Lasso()\n",
        "\n",
        "parameters = [1e-15, 1e-10, 1e-8, 1e-4, 1e-3,1e-2, 1, 5, 10, 20]\n",
        "MSE_lasso = []\n",
        "\n",
        "for a in parameters:\n",
        "    lasso.set_params(alpha = a)\n",
        "    lasso.fit(X_train, y_train)\n",
        "    MSE_lasso.append(mean_squared_error(y_test,lasso.predict(X_test)))\n",
        "\n",
        "print(min(MSE_lasso))\n",
        "print(\"alpha: \" + str(parameters[MSE_lasso.index(min(MSE_lasso))]))"
      ],
      "execution_count": 25,
      "outputs": [
        {
          "output_type": "stream",
          "text": [
            "0.31337499447089145\n",
            "alpha: 0.01\n"
          ],
          "name": "stdout"
        }
      ]
    },
    {
      "cell_type": "code",
      "metadata": {
        "id": "3mFBHKDR3ZPC",
        "colab_type": "code",
        "colab": {
          "base_uri": "https://localhost:8080/",
          "height": 312
        },
        "outputId": "7e9812df-2eb3-406a-809a-2dd0391493f5"
      },
      "source": [
        "lasso.set_params(alpha = 0.01)\n",
        "lasso.fit(X_train, y_train)\n",
        "#Scatter plot of actual vs predicted values\n",
        "plt.scatter(x = y_test, y = lasso.predict(X_test))\n",
        "plt.xlabel('Actual')\n",
        "plt.ylabel('Predicted')\n",
        "plt.title('Lasso Penalized')"
      ],
      "execution_count": 33,
      "outputs": [
        {
          "output_type": "execute_result",
          "data": {
            "text/plain": [
              "Text(0.5, 1.0, 'Lasso Penalized')"
            ]
          },
          "metadata": {
            "tags": []
          },
          "execution_count": 33
        },
        {
          "output_type": "display_data",
          "data": {
            "image/png": "[encoded data removed]",
            "text/plain": [
              "<Figure size 432x288 with 1 Axes>"
            ]
          },
          "metadata": {
            "tags": [],
            "needs_background": "light"
          }
        }
      ]
    },
    {
      "cell_type": "code",
      "metadata": {
        "id": "Pwr7zPNL310C",
        "colab_type": "code",
        "colab": {
          "base_uri": "https://localhost:8080/",
          "height": 51
        },
        "outputId": "f5458324-c1d1-4fa0-dd0f-93644f24ecc3"
      },
      "source": [
        "#Ridge\n",
        "from sklearn.linear_model import Ridge\n",
        "ridge = Ridge()\n",
        "\n",
        "parameters = [1e-15, 1e-10, 1e-8, 1e-4, 1e-3,1e-2, 1, 5, 10, 20]\n",
        "MSE_ridge = []\n",
        "\n",
        "for a in parameters:\n",
        "    ridge.set_params(alpha = a)\n",
        "    ridge.fit(X_train, y_train)\n",
        "    MSE_ridge.append(mean_squared_error(y_test,ridge.predict(X_test)))\n",
        "\n",
        "print(min(MSE_ridge))\n",
        "print(\"alpha: \" + str(parameters[MSE_ridge.index(min(MSE_ridge))]))"
      ],
      "execution_count": 30,
      "outputs": [
        {
          "output_type": "stream",
          "text": [
            "0.3166900272196123\n",
            "alpha: 5\n"
          ],
          "name": "stdout"
        }
      ]
    },
    {
      "cell_type": "code",
      "metadata": {
        "id": "QJ12I87X32ai",
        "colab_type": "code",
        "colab": {
          "base_uri": "https://localhost:8080/",
          "height": 312
        },
        "outputId": "4bd893b7-63aa-4d48-d27d-cff304fafe86"
      },
      "source": [
        "#Scatter plot of actual vs predicted values\n",
        "plt.scatter(x = y_test, y = ridge.predict(X_test))\n",
        "plt.xlabel('Actual')\n",
        "plt.ylabel('Predicted')\n",
        "plt.title('Ridge Penalized')"
      ],
      "execution_count": 31,
      "outputs": [
        {
          "output_type": "execute_result",
          "data": {
            "text/plain": [
              "Text(0.5, 1.0, 'Ridge Penalized')"
            ]
          },
          "metadata": {
            "tags": []
          },
          "execution_count": 31
        },
        {
          "output_type": "display_data",
          "data": {
            "image/png": "[encoded data removed]",
            "text/plain": [
              "<Figure size 432x288 with 1 Axes>"
            ]
          },
          "metadata": {
            "tags": [],
            "needs_background": "light"
          }
        }
      ]
    },
    {
      "cell_type": "markdown",
      "metadata": {
        "id": "4Be2rgAY3yrN",
        "colab_type": "text"
      },
      "source": [
        "As we can see, the Lasso model has the best RMSE of 0.31337. "
      ]
    },
    {
      "cell_type": "markdown",
      "metadata": {
        "id": "r5bT4K_x35kv",
        "colab_type": "text"
      },
      "source": [
        "### Deep Neural Net"
      ]
    },
    {
      "cell_type": "code",
      "metadata": {
        "id": "86Ib5EmZ4GSM",
        "colab_type": "code",
        "colab": {}
      },
      "source": [
        "#Doing the Deep Neural Net\n",
        "from tensorflow import keras"
      ],
      "execution_count": 0,
      "outputs": []
    },
    {
      "cell_type": "code",
      "metadata": {
        "id": "QgWhSZcV4yow",
        "colab_type": "code",
        "outputId": "6cd6cd89-4a6e-46bd-a10c-f34aec842bfd",
        "colab": {
          "base_uri": "https://localhost:8080/",
          "height": 1000
        }
      },
      "source": [
        "#let's initiliaze a model with 10 dene layers, the output layer has to be with a linear activation \n",
        "model = tf.keras.Sequential()\n",
        "model.add(tf.keras.layers.Dense(5, input_shape = [6]))\n",
        "model.add(tf.keras.layers.Dense(1, activation='linear'))\n",
        "model.compile(optimizer='sgd', loss = 'mean_squared_error')\n",
        "model.fit(X_train, y_train, epochs=100)"
      ],
      "execution_count": 17,
      "outputs": [
        {
          "output_type": "stream",
          "text": [
            "Epoch 1/100\n",
            "19/19 [==============================] - 0s 1ms/step - loss: 2.1959\n",
            "Epoch 2/100\n",
            "19/19 [==============================] - 0s 983us/step - loss: 0.4961\n",
            "Epoch 3/100\n",
            "19/19 [==============================] - 0s 978us/step - loss: 0.4719\n",
            "Epoch 4/100\n",
            "19/19 [==============================] - 0s 969us/step - loss: 0.4197\n",
            "Epoch 5/100\n",
            "19/19 [==============================] - 0s 970us/step - loss: 0.3943\n",
            "Epoch 6/100\n",
            "19/19 [==============================] - 0s 1ms/step - loss: 0.3674\n",
            "Epoch 7/100\n",
            "19/19 [==============================] - 0s 972us/step - loss: 0.3578\n",
            "Epoch 8/100\n",
            "19/19 [==============================] - 0s 1ms/step - loss: 0.3586\n",
            "Epoch 9/100\n",
            "19/19 [==============================] - 0s 957us/step - loss: 0.3413\n",
            "Epoch 10/100\n",
            "19/19 [==============================] - 0s 978us/step - loss: 0.3308\n",
            "Epoch 11/100\n",
            "19/19 [==============================] - 0s 1ms/step - loss: 0.3248\n",
            "Epoch 12/100\n",
            "19/19 [==============================] - 0s 955us/step - loss: 0.3241\n",
            "Epoch 13/100\n",
            "19/19 [==============================] - 0s 1ms/step - loss: 0.3231\n",
            "Epoch 14/100\n",
            "19/19 [==============================] - 0s 988us/step - loss: 0.3265\n",
            "Epoch 15/100\n",
            "19/19 [==============================] - 0s 982us/step - loss: 0.3186\n",
            "Epoch 16/100\n",
            "19/19 [==============================] - 0s 1ms/step - loss: 0.3254\n",
            "Epoch 17/100\n",
            "19/19 [==============================] - 0s 1ms/step - loss: 0.3080\n",
            "Epoch 18/100\n",
            "19/19 [==============================] - 0s 995us/step - loss: 0.3166\n",
            "Epoch 19/100\n",
            "19/19 [==============================] - 0s 1ms/step - loss: 0.3107\n",
            "Epoch 20/100\n",
            "19/19 [==============================] - 0s 1ms/step - loss: 0.3081\n",
            "Epoch 21/100\n",
            "19/19 [==============================] - 0s 1ms/step - loss: 0.3068\n",
            "Epoch 22/100\n",
            "19/19 [==============================] - 0s 998us/step - loss: 0.3126\n",
            "Epoch 23/100\n",
            "19/19 [==============================] - 0s 961us/step - loss: 0.3111\n",
            "Epoch 24/100\n",
            "19/19 [==============================] - 0s 1ms/step - loss: 0.3029\n",
            "Epoch 25/100\n",
            "19/19 [==============================] - 0s 1ms/step - loss: 0.3015\n",
            "Epoch 26/100\n",
            "19/19 [==============================] - 0s 1ms/step - loss: 0.3113\n",
            "Epoch 27/100\n",
            "19/19 [==============================] - 0s 1ms/step - loss: 0.3003\n",
            "Epoch 28/100\n",
            "19/19 [==============================] - 0s 1ms/step - loss: 0.3020\n",
            "Epoch 29/100\n",
            "19/19 [==============================] - 0s 1ms/step - loss: 0.3001\n",
            "Epoch 30/100\n",
            "19/19 [==============================] - 0s 994us/step - loss: 0.3122\n",
            "Epoch 31/100\n",
            "19/19 [==============================] - 0s 1ms/step - loss: 0.3080\n",
            "Epoch 32/100\n",
            "19/19 [==============================] - 0s 1ms/step - loss: 0.3006\n",
            "Epoch 33/100\n",
            "19/19 [==============================] - 0s 1ms/step - loss: 0.3030\n",
            "Epoch 34/100\n",
            "19/19 [==============================] - 0s 1ms/step - loss: 0.2967\n",
            "Epoch 35/100\n",
            "19/19 [==============================] - 0s 1ms/step - loss: 0.2948\n",
            "Epoch 36/100\n",
            "19/19 [==============================] - 0s 1ms/step - loss: 0.3046\n",
            "Epoch 37/100\n",
            "19/19 [==============================] - 0s 1ms/step - loss: 0.3019\n",
            "Epoch 38/100\n",
            "19/19 [==============================] - 0s 1ms/step - loss: 0.3024\n",
            "Epoch 39/100\n",
            "19/19 [==============================] - 0s 1ms/step - loss: 0.2977\n",
            "Epoch 40/100\n",
            "19/19 [==============================] - 0s 963us/step - loss: 0.3082\n",
            "Epoch 41/100\n",
            "19/19 [==============================] - 0s 1ms/step - loss: 0.3022\n",
            "Epoch 42/100\n",
            "19/19 [==============================] - 0s 1ms/step - loss: 0.3048\n",
            "Epoch 43/100\n",
            "19/19 [==============================] - 0s 1ms/step - loss: 0.2989\n",
            "Epoch 44/100\n",
            "19/19 [==============================] - 0s 1ms/step - loss: 0.3093\n",
            "Epoch 45/100\n",
            "19/19 [==============================] - 0s 1ms/step - loss: 0.3084\n",
            "Epoch 46/100\n",
            "19/19 [==============================] - 0s 1ms/step - loss: 0.3033\n",
            "Epoch 47/100\n",
            "19/19 [==============================] - 0s 980us/step - loss: 0.2969\n",
            "Epoch 48/100\n",
            "19/19 [==============================] - 0s 996us/step - loss: 0.3038\n",
            "Epoch 49/100\n",
            "19/19 [==============================] - 0s 1ms/step - loss: 0.3024\n",
            "Epoch 50/100\n",
            "19/19 [==============================] - 0s 959us/step - loss: 0.2996\n",
            "Epoch 51/100\n",
            "19/19 [==============================] - 0s 941us/step - loss: 0.3037\n",
            "Epoch 52/100\n",
            "19/19 [==============================] - 0s 977us/step - loss: 0.2968\n",
            "Epoch 53/100\n",
            "19/19 [==============================] - 0s 973us/step - loss: 0.3085\n",
            "Epoch 54/100\n",
            "19/19 [==============================] - 0s 1ms/step - loss: 0.2931\n",
            "Epoch 55/100\n",
            "19/19 [==============================] - 0s 913us/step - loss: 0.2968\n",
            "Epoch 56/100\n",
            "19/19 [==============================] - 0s 1ms/step - loss: 0.2950\n",
            "Epoch 57/100\n",
            "19/19 [==============================] - 0s 944us/step - loss: 0.2914\n",
            "Epoch 58/100\n",
            "19/19 [==============================] - 0s 958us/step - loss: 0.3057\n",
            "Epoch 59/100\n",
            "19/19 [==============================] - 0s 992us/step - loss: 0.3080\n",
            "Epoch 60/100\n",
            "19/19 [==============================] - 0s 985us/step - loss: 0.2958\n",
            "Epoch 61/100\n",
            "19/19 [==============================] - 0s 1ms/step - loss: 0.3042\n",
            "Epoch 62/100\n",
            "19/19 [==============================] - 0s 1ms/step - loss: 0.3057\n",
            "Epoch 63/100\n",
            "19/19 [==============================] - 0s 1ms/step - loss: 0.3024\n",
            "Epoch 64/100\n",
            "19/19 [==============================] - 0s 1ms/step - loss: 0.2979\n",
            "Epoch 65/100\n",
            "19/19 [==============================] - 0s 1ms/step - loss: 0.2998\n",
            "Epoch 66/100\n",
            "19/19 [==============================] - 0s 1ms/step - loss: 0.2941\n",
            "Epoch 67/100\n",
            "19/19 [==============================] - 0s 1ms/step - loss: 0.2948\n",
            "Epoch 68/100\n",
            "19/19 [==============================] - 0s 1ms/step - loss: 0.2964\n",
            "Epoch 69/100\n",
            "19/19 [==============================] - 0s 1ms/step - loss: 0.2948\n",
            "Epoch 70/100\n",
            "19/19 [==============================] - 0s 1ms/step - loss: 0.2957\n",
            "Epoch 71/100\n",
            "19/19 [==============================] - 0s 1ms/step - loss: 0.3057\n",
            "Epoch 72/100\n",
            "19/19 [==============================] - 0s 1ms/step - loss: 0.2997\n",
            "Epoch 73/100\n",
            "19/19 [==============================] - 0s 1ms/step - loss: 0.2967\n",
            "Epoch 74/100\n",
            "19/19 [==============================] - 0s 1ms/step - loss: 0.2945\n",
            "Epoch 75/100\n",
            "19/19 [==============================] - 0s 1ms/step - loss: 0.2954\n",
            "Epoch 76/100\n",
            "19/19 [==============================] - 0s 1ms/step - loss: 0.3002\n",
            "Epoch 77/100\n",
            "19/19 [==============================] - 0s 1ms/step - loss: 0.2990\n",
            "Epoch 78/100\n",
            "19/19 [==============================] - 0s 1ms/step - loss: 0.2964\n",
            "Epoch 79/100\n",
            "19/19 [==============================] - 0s 1ms/step - loss: 0.2931\n",
            "Epoch 80/100\n",
            "19/19 [==============================] - 0s 1ms/step - loss: 0.2943\n",
            "Epoch 81/100\n",
            "19/19 [==============================] - 0s 1ms/step - loss: 0.3018\n",
            "Epoch 82/100\n",
            "19/19 [==============================] - 0s 932us/step - loss: 0.2989\n",
            "Epoch 83/100\n",
            "19/19 [==============================] - 0s 921us/step - loss: 0.2977\n",
            "Epoch 84/100\n",
            "19/19 [==============================] - 0s 986us/step - loss: 0.3133\n",
            "Epoch 85/100\n",
            "19/19 [==============================] - 0s 976us/step - loss: 0.3082\n",
            "Epoch 86/100\n",
            "19/19 [==============================] - 0s 910us/step - loss: 0.3046\n",
            "Epoch 87/100\n",
            "19/19 [==============================] - 0s 1ms/step - loss: 0.2881\n",
            "Epoch 88/100\n",
            "19/19 [==============================] - 0s 1ms/step - loss: 0.3033\n",
            "Epoch 89/100\n",
            "19/19 [==============================] - 0s 1ms/step - loss: 0.3024\n",
            "Epoch 90/100\n",
            "19/19 [==============================] - 0s 1ms/step - loss: 0.2954\n",
            "Epoch 91/100\n",
            "19/19 [==============================] - 0s 1ms/step - loss: 0.3114\n",
            "Epoch 92/100\n",
            "19/19 [==============================] - 0s 1ms/step - loss: 0.2963\n",
            "Epoch 93/100\n",
            "19/19 [==============================] - 0s 980us/step - loss: 0.3000\n",
            "Epoch 94/100\n",
            "19/19 [==============================] - 0s 1ms/step - loss: 0.3014\n",
            "Epoch 95/100\n",
            "19/19 [==============================] - 0s 983us/step - loss: 0.2978\n",
            "Epoch 96/100\n",
            "19/19 [==============================] - 0s 1ms/step - loss: 0.3002\n",
            "Epoch 97/100\n",
            "19/19 [==============================] - 0s 985us/step - loss: 0.3022\n",
            "Epoch 98/100\n",
            "19/19 [==============================] - 0s 960us/step - loss: 0.2985\n",
            "Epoch 99/100\n",
            "19/19 [==============================] - 0s 956us/step - loss: 0.2924\n",
            "Epoch 100/100\n",
            "19/19 [==============================] - 0s 1ms/step - loss: 0.3010\n"
          ],
          "name": "stdout"
        },
        {
          "output_type": "execute_result",
          "data": {
            "text/plain": [
              "<tensorflow.python.keras.callbacks.History at 0x7fe6f2085748>"
            ]
          },
          "metadata": {
            "tags": []
          },
          "execution_count": 17
        }
      ]
    },
    {
      "cell_type": "code",
      "metadata": {
        "id": "iJT55Mu386hd",
        "colab_type": "code",
        "outputId": "d5d47914-e8b7-4062-a297-62e1af7ec94d",
        "colab": {
          "base_uri": "https://localhost:8080/",
          "height": 312
        }
      },
      "source": [
        "#Scatter plot of actual vs predicted values\n",
        "plt.scatter(x = y_test, y = model.predict(X_test))\n",
        "plt.xlabel('Actual')\n",
        "plt.ylabel('Predicted')\n",
        "plt.title('Deep Learning')"
      ],
      "execution_count": 19,
      "outputs": [
        {
          "output_type": "execute_result",
          "data": {
            "text/plain": [
              "Text(0.5, 1.0, 'Deep Learning')"
            ]
          },
          "metadata": {
            "tags": []
          },
          "execution_count": 19
        },
        {
          "output_type": "display_data",
          "data": {
            "image/png": "[encoded data removed]",
            "text/plain": [
              "<Figure size 432x288 with 1 Axes>"
            ]
          },
          "metadata": {
            "tags": [],
            "needs_background": "light"
          }
        }
      ]
    },
    {
      "cell_type": "markdown",
      "metadata": {
        "id": "0-j1cn666oku",
        "colab_type": "text"
      },
      "source": [
        "### Random Forest"
      ]
    },
    {
      "cell_type": "code",
      "metadata": {
        "id": "5YhdoM21Bo48",
        "colab_type": "code",
        "outputId": "8793301b-3f45-46dd-ffe8-9fa56e5cb1b0",
        "colab": {
          "base_uri": "https://localhost:8080/",
          "height": 136
        }
      },
      "source": [
        "#Importing the Emsemble method\n",
        "from sklearn.ensemble import RandomForestRegressor\n",
        "regMod = RandomForestRegressor(max_depth=3, random_state=10)\n",
        "regMod.fit(X_train, y_train)"
      ],
      "execution_count": 11,
      "outputs": [
        {
          "output_type": "execute_result",
          "data": {
            "text/plain": [
              "RandomForestRegressor(bootstrap=True, ccp_alpha=0.0, criterion='mse',\n",
              "                      max_depth=3, max_features='auto', max_leaf_nodes=None,\n",
              "                      max_samples=None, min_impurity_decrease=0.0,\n",
              "                      min_impurity_split=None, min_samples_leaf=1,\n",
              "                      min_samples_split=2, min_weight_fraction_leaf=0.0,\n",
              "                      n_estimators=100, n_jobs=None, oob_score=False,\n",
              "                      random_state=10, verbose=0, warm_start=False)"
            ]
          },
          "metadata": {
            "tags": []
          },
          "execution_count": 11
        }
      ]
    },
    {
      "cell_type": "code",
      "metadata": {
        "id": "vaqS2H5PClze",
        "colab_type": "code",
        "outputId": "9b4514bf-4c12-4fba-a4fc-ffb1e7ece189",
        "colab": {
          "base_uri": "https://localhost:8080/",
          "height": 119
        }
      },
      "source": [
        "#Let's look at the feature importance\n",
        "for feature, importance in zip(df.columns[2:], regMod.feature_importances_):\n",
        "  print('The feature importance of ' + str(feature) + ' is ' + str(importance))"
      ],
      "execution_count": 16,
      "outputs": [
        {
          "output_type": "stream",
          "text": [
            "The feature importance of Economy is 0.4761396972273258\n",
            "The feature importance of Family is 0.038917718570730286\n",
            "The feature importance of Health is 0.374537397787535\n",
            "The feature importance of Freedom is 0.07973262674129458\n",
            "The feature importance of Trust is 0.010432875046151577\n",
            "The feature importance of Generosity is 0.02023968462696275\n"
          ],
          "name": "stdout"
        }
      ]
    },
    {
      "cell_type": "code",
      "metadata": {
        "id": "1fALDnqkDBCw",
        "colab_type": "code",
        "outputId": "86fa8514-142d-4129-ab1d-d6489044db20",
        "colab": {
          "base_uri": "https://localhost:8080/",
          "height": 34
        }
      },
      "source": [
        "mse = metrics.mean_squared_error(y_test, regMod.predict(X_test))\n",
        "print(mse)"
      ],
      "execution_count": 0,
      "outputs": [
        {
          "output_type": "stream",
          "text": [
            "0.35206705584154196\n"
          ],
          "name": "stdout"
        }
      ]
    },
    {
      "cell_type": "code",
      "metadata": {
        "id": "jlwIAY7F1x8_",
        "colab_type": "code",
        "colab": {
          "base_uri": "https://localhost:8080/",
          "height": 312
        },
        "outputId": "2945490d-6b91-4c0c-f01c-91cd70b5dfe0"
      },
      "source": [
        "#Scatter plot of actual vs predicted values\n",
        "plt.scatter(x = y_test, y = regMod.predict(X_test))\n",
        "plt.xlabel('Actual')\n",
        "plt.ylabel('Predicted')\n",
        "plt.title('Random Forest')"
      ],
      "execution_count": 21,
      "outputs": [
        {
          "output_type": "execute_result",
          "data": {
            "text/plain": [
              "Text(0.5, 1.0, 'Random Forest')"
            ]
          },
          "metadata": {
            "tags": []
          },
          "execution_count": 21
        },
        {
          "output_type": "display_data",
          "data": {
            "image/png": "[encoded data removed]",
            "text/plain": [
              "<Figure size 432x288 with 1 Axes>"
            ]
          },
          "metadata": {
            "tags": [],
            "needs_background": "light"
          }
        }
      ]
    }
  ]
}